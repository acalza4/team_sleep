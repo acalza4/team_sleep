{
 "cells": [
  {
   "cell_type": "markdown",
   "metadata": {},
   "source": [
    "# COGS 118B - Project Proposal"
   ]
  },
  {
   "cell_type": "markdown",
   "metadata": {},
   "source": [
    "# Names\n",
    "\n",
    "Antara Sengupta \n",
    "\n",
    "Dhathry Doppalapudi \n",
    "\n",
    "Abhinav Chandra \n",
    "\n",
    "Austin Calza \n"
   ]
  },
  {
   "cell_type": "markdown",
   "metadata": {},
   "source": [
    "# Abstract \n",
    "\n",
    "Our objective is to employ unsupervised machine learning techniques to cluster EEG signal data into distinct sleep stages. The dataset comprises EEG signals from different brain lobes, representing various frequency subbands associated with sleep stages. The unsupervised approach involves clustering similar patterns without predefined labels, allowing the model to identify inherent structures in the data. By utilizing techniques like hierarchical, k-means, or GMM clustering, we aim to group EEG signals into clusters corresponding to different sleep stages. We will do model selection to figure out which clustering model to pursue. Success will be evaluated based on the coherence and meaningfulness of the identified clusters, providing insights into the potential unsupervised categorization of sleep stages in the dataset."
   ]
  },
  {
   "cell_type": "markdown",
   "metadata": {},
   "source": [
    "# Background\n",
    "\n",
    "The exploration of neurological data through the utilization of machine learning algorithms is a booming field with various research initiatives tackling it. Machine learning methods allow us to sift through billions of neurobiological connections and uncover correlations and build tools that can be utilized in health care, pharmaceuticals, and technology development. The study of sleep stages has witnessed significant advancements in the biotechnology and machine learning worlds, driven by the importance of this process in diagnosing and treating sleep disorders and also learning more about this essential process of human life. \n",
    "\n",
    "Sleep staging is the process of categorizing and classifying the different stages of sleep based on physiological parameters, and the one we are focusing on in this project is brain waves. The two main types of sleep are REM (rapid eye movement) sleep and non-REM sleep, which further includes three sub-stages: N1 ( transition from wakefulness to sleep), N2 (slightly deeper sleep), and N3 (slow-wave sleep or deep sleep). Utilizing unsupervised machine learning methods for sleep staging has become more prevalent, and research focuses on this phenomenon have sparked curiosity within us to pursue our project within this realm.\n",
    "\n",
    "Traditional sleep staging with EEG signals would require intensive manual intervention from a sleep specialist, but machine learning has made this classification task much simpler [1]. Utilizing machine learning to perform sleep staging has made this task much more broadly applicable and further accessible, which is crucial in furthering sleep research and studies. This is important because sleep studies are used to diagnose disorders such as epilepsy and sleep apnea, while also a helpful metric in understanding human health, cognition, and further emotional aspects and information concerning the human mind. There has been research done with hierarchical classification models  [1] to do sleep staging tasks, along with unsupervised multi-sub epoch feature learning. The EEG epoch is divided into sub epochs, mapped to amplitude and time axes, and statistical classification features are extracted. Unsupervised feature learning is conducted for consistent and specific classification features. A hierarchical weighted support vector machine-based classification model is established, addressing class imbalance in sleep stages. The proposed method demonstrates improved sleep staging performance, contributing to the development of EEG-based sleep staging systems. The study aims to enhance real-time monitoring, reduce medical staff workload, and advance the smart health industry.\n",
    "\n",
    "Another initiative to simplify the time-consuming task of manual sleep staging through unsupervised machine learning is by the usage of deep belief nets (DBNs), which is a feature learning architecture that can be applied to EEG sleep data[2]. Learned features for raw-DBN include low and high frequency features for EEG and high and low amplitude features for EMG.  The study also explores anomaly detection on home sleep data using RMSE between actual and reconstructed signals. The work demonstrates the feasibility of applying automatic sleep staging to multimodal sleep data without handmade features, emphasizing the advantages of unsupervised feature learning.\n",
    "\n",
    "There are supervised machine learning efforts as well to perform automated sleep staging, such as through the utilization of backward feature selection to find the optimal feature combination that creates the highest sleep stage classification accuracy[3]. The method used in this study specifically was Sequential Backward Feature Selection (SBFS), which allowed them to pinpoint the combination of features that creates the most robust classifier. By correctly classifying transition epochs between sleep stages, these researchers utilized time-domain features of EEG signals with an ANN classifier, and ultimately designed five classifiers predicting awake, N1, N2, N3, and REM sleep stages. This highlights the benefits integrating frequency-domain and other statistical analysis techniques when approaching neurobiological/electrophysiological data. \n",
    "\n",
    "Another avenue of exploration involves the utilization of wavelet transform and artificial neural network (ANN) procedures for sleep staging, aiming to automate this time-consuming and subjective manual process[4]. These neural networks are applied to classify sleep spindles, REM, and awake. This study emphasizes the importance of feature engineering and feature extraction methods, along with an automatic sleep scoring system called CVNF+CVANN. This is a new hybrid ML method which combines complex-valued nonlinear features (CVNF) and complex-valued neural network (CVANN), and uses this hybrid algorithm to perform sleep scoring using EEG data from a single channel.\n",
    "\n",
    "These prior works underscore the ongoing efforts to streamline and enhance the sleep staging process. However, there are various limitations, such as the imperfections of many of these unsupervised ML algorithms when working with complex biological data. There have also been very few initiatives to address the specific characteristics of each stage of sleep in machine learning classification algorithms, specifically N1, N2, and N3. There has been a heavy focus within a lot of initiatives in prioritizing the study of just REM and awake sleep, but there are some efforts starting to be made to focus on all stages [3]. This is crucial work because sleep is essential for humans to survive and thrive, as it determines our ability to function, think, feel, perform, and also is detrimental to our overall well-being and smooth functioning of bodily processes and immune systems. Sleep staging is a crucial task that has been done by experts for a long time, but can now be simplified through automated processes, due to machine learning. With our project, we aim to continue this fascinating exploration, and contribute to this blossoming initiative to use data science and machine learning to further gain insight into the human brain. "
   ]
  },
  {
   "cell_type": "markdown",
   "metadata": {},
   "source": [
    "# Problem Statement\n",
    "\n",
    "Studying the sleeping patterns of humans has revealed that sleep can be divided into several stages, and each of these stages is categorized by different activity in the brain. The stages of wake, N1, N2, N3, and REM sleep all have different characteristics in terms of the levels of delta, alpha, theta, gamma, and beta waves. Because subjects in similar stages of sleep should have similar activity in the brain, and unsupervised machine learning methods could be used to cluster similar EEG observations, and hence, group the different stages of sleep together. Hence, since brain activity can be observed with EEG data, this project will look to take the observed EEG data of subjects in different stages of sleep and build a model that can cluster these data points into groups that reflect different stages of sleep."
   ]
  },
  {
   "cell_type": "markdown",
   "metadata": {},
   "source": [
    "# Data\n",
    "\n",
    "The data can be found at https://www.kaggle.com/datasets/rafsanjany44/rem-and-nrem-sleep-classification. This data comes from a Dutch sleep center Haaglanden Medisch Centrun, and it consists of a series of EEG observations of individuals in different stages of sleep. The dataset consists of 75 variables and around 89,100 observations. With over a 1000 times as many observations as variables, the data should be well suited to create a solution that generalizes well. Each observation consists of different measurements of alpha, beta, gamma, theta, and delta waves, such as the mean, median, peak value, and spectral edge of each of these wave measures. There are three sets of each of these measurements from three different parts of the brain: F4 in the frontal lobe, C4 in the central lobe, and O2 in the occipital lobe. No individual variable should hold more weight than another, considering that prior to the investigation, it is unclear if a particular type of brain wave or brain area is more important. Each of these variables are on different scales, and to ensure no one variable has a stronger influence on the model, each variable will be normalized.\n"
   ]
  },
  {
   "cell_type": "markdown",
   "metadata": {},
   "source": [
    "# Proposed Solution\n",
    "\n",
    "EEG signal analysis requires careful preprocessing and feature extraction to prepare the data for use in unsupervised algorithms. Our solution will begin with a brief exploratory data analysis to better understand our data and help inform our preprocessing efforts of signal denoising and artifact reduction. Once preprocessed we will extract features and then classification using an unsupervised learning model. Assuming EDA showed no issues, we will start out by applying a band-pass filter to the EEG data to retain only the relevant frequency ranges, typically between 1-55 Hz, to exclude high-frequency noise and very low-frequency drift. It may also be necessary to downsample the signal to a lower frequency to reduce the computation load and we would do this following the Nyquist theorem. Following this, Independent Component Analysis (ICA) will be employed to decompose the signal into independent components, allowing for the identification and removal of components associated with muscle movements, eye blinks, and other artifacts. After filtering and artifact rejection, the data will be segmented into epochs or separated time windows, providing manageable data segments for further analysis.\n",
    "\n",
    "Principal Component Analysis (PCA) will then be used to reduce the dimensionality of the dataset, focusing on components that capture the most variance. This step will be complemented by additional feature engineering efforts to extract time-domain, frequency-domain, and time-frequency domain features, offering a comprehensive representation of the EEG signals. For classification, we will explore unsupervised learning approaches such as K-means and hierarchical clustering. The optimal number of clusters will be determined using methods like the elbow method, or gap statistic, ensuring a meaningful classification of the EEG signals into distinct groups.\n",
    "\n",
    "Given that our dataset is pre-segmented into NREM and REM sleep categories, we can leverage these classifications to validate our unsupervised learning model. This initial step will enable us to refine our data processing pipeline for these two broad sleep categories. Our ultimate objective is to expand this model to classify all distinct sleep stages without relying on predefined labels or external knowledge, such as the established sleep stage categories in neuroscience. This approach ensures that our model independently discovers the underlying patterns in the data.\n",
    "\n",
    "For the validation of our more refined classification model, we will employ a Fourier Transform on the epochs. This technique will allow us to analyze the frequency components of the EEG signals. By examining these frequency patterns, the model can algorithmically assign a sleep stage to each epoch, effectively labeling it based on its spectral characteristics. This method will provide an objective basis to assess the model's performance in distinguishing between the various stages of sleep, relying solely on the intrinsic information contained within the EEG signals."
   ]
  },
  {
   "cell_type": "markdown",
   "metadata": {},
   "source": [
    "# Evaluation Metrics\n",
    "\n",
    "For the unsupervised clustering task of sleep stage classification using EEG signal data, the Silhouette Score is a relevant evaluation metric. The Silhouette Score measures how well-defined and separated the clusters are within the data. It takes into account both the cohesion within clusters and the separation between clusters. The Silhouette Score ranges from -1 to 1, where a higher score indicates better-defined clusters. The overall Silhouette Score for the entire dataset is the average of the Silhouette Scores for each data point. This metric provides a quantitative measure of the clustering quality, with a higher score indicating well-separated and distinct clusters, aligning with the goal of accurately identifying sleep stages in EEG signals. The formula for the Silhouette Score for a single data point 'i' is given by: \n",
    "$$S(i)=[b(i)-a(i)/[max(a(i),b(i)]$$\n",
    "Where a(i) is the average distance from the i-th data point to other points in the same cluster and b(i) is the smallest average distance from the i-th data point to points in a different cluster."
   ]
  },
  {
   "cell_type": "markdown",
   "metadata": {},
   "source": [
    "# Ethics & Privacy"
   ]
  },
  {
   "cell_type": "markdown",
   "metadata": {},
   "source": [
    "In our EEG signal classification project, we are aware of potential ethical concerns and data privacy issues that demand our careful consideration. Firstly, utilizing medical data, especially from sleep recordings, requires us to prioritize patient privacy. Our dataset, collected from Haaglanden Medisch Centrum in The Netherlands, is publicly available on Kaggle. It is anonymized, and any personally identifiable information has been handled.\n",
    "\n",
    "Furthermore, the nature of classifying sleep stages using EEG data raises the specter of revealing sensitive health information. We acknowledge the risk of stigmatization or discrimination based on the model's results, and we will ensure that only authorized individuals, like our instructor and TA, can access and understand the model's results. Furthermore, this project will be made private upon completion to ensure security.\n",
    "\n",
    "We understand that biased outcomes can arise if the training data does not adequately represent a diverse population. Given that our dataset is specific to a sleep center in The Netherlands, we understand that it may not be representative of people from all over the world and will make sure not to claim that it is. To mitigate ethical concerns and potential unintended consequences, we prioritize transparency in our model development process. Documenting our data preprocessing steps, model architectures, and evaluation metrics serves to enhance accountability and facilitates external scrutiny."
   ]
  },
  {
   "cell_type": "markdown",
   "metadata": {},
   "source": [
    "# Team Expectations "
   ]
  },
  {
   "cell_type": "markdown",
   "metadata": {},
   "source": [
    "Put things here that cement how you will interact/communicate as a team, how you will handle conflict and difficulty, how you will handle making decisions and setting goals/schedule, how much work you expect from each other, how you will handle deadlines, etc...\n",
    "* *Everybody does their assigned parts on time as planned.*\n",
    "* *Everyone communicates clearly with team members - if anything comes up, they let the team know promptly.*\n",
    "* *All members attend decided meetings, and if they are not able to, they complete tasks remotely.*\n",
    "* *All team members are respectful of each other.*\n",
    "* *Everybody contributes equally, and puts in their best effort.*\n"
   ]
  },
  {
   "cell_type": "markdown",
   "metadata": {},
   "source": [
    "# Project Timeline Proposal"
   ]
  },
  {
   "cell_type": "markdown",
   "metadata": {},
   "source": [
    "\n",
    "| Meeting Date  | Meeting Time| Completed Before Meeting  | Discuss at Meeting |\n",
    "|---|---|---|---|\n",
    "| 2/11  |  2 PM |  Brainstorm topics/questions  | Determine best form of communication; discuss possible topics; find potential datasets; discuss potential hypotheses | \n",
    "| 2/20  |  2 PM |  Find more datasets, narrow down potential datasets | Decide on a dataset, problem, and hypothesis; discuss expectations, ethics, and schedule; complete project proposal together | \n",
    "| 2/27  | 2 PM  | Brainstorm and split up EDA, Import & Wrangle Data, do some EDA  | Review/Edit wrangling/EDA, split up any further EDA and programming   |\n",
    "| 3/5  | 2 PM  | Finalize wrangling/EDA; Begin programming for project | Discuss/edit project code; Complete project, Split up work for the analysis   |\n",
    "| 3/12  | 2 PM  | Complete analysis; Draft results/conclusion/discussion | Complete results/conclusion/discussion sections, Discuss/edit full project |\n",
    "| 3/20  | Before 11:59 PM  | NA | Turn in Final Project  |"
   ]
  },
  {
   "cell_type": "markdown",
   "metadata": {},
   "source": [
    "# Footnotes\n",
    "1.^: An, P. (23 August 2021) Unsupervised multi-subepoch feature learning and hierarchical classification for EEG-based sleep staging. ScienceDirect. https://www.sciencedirect.com/science/article/abs/pii/S0957417421011337 \n",
    "2.^:  Längkvist, M (24 July 2012) Sleep Stage Classification Using Unsupervised Feature Learning. Hindawi. https://www.hindawi.com/journals/aans/2012/107046/ \n",
    "3.^:  Yucelbas, Sule (July 2016) Effect of EEG Time Domain Features on the Classification of Sleep Stages. Indian Journal of Science and Technology. https://sciresol.s3.us-east-2.amazonaws.com/IJST/Articles/2016/Issue-25/Article53.pdf \n",
    "4.^:  Peker, M (10 August 2016) An efficient sleep scoring system based on EEG signal using complex-valued machine learning algorithms. ScienceDirect. https://www.sciencedirect.com/science/article/abs/pii/S0925231216303289 \n",
    "\n"
   ]
  },
  {
   "cell_type": "code",
   "execution_count": null,
   "metadata": {},
   "outputs": [],
   "source": []
  }
 ],
 "metadata": {
  "kernelspec": {
   "display_name": "Python 3 (ipykernel)",
   "language": "python",
   "name": "python3"
  },
  "language_info": {
   "codemirror_mode": {
    "name": "ipython",
    "version": 3
   },
   "file_extension": ".py",
   "mimetype": "text/x-python",
   "name": "python",
   "nbconvert_exporter": "python",
   "pygments_lexer": "ipython3",
   "version": "3.9.13"
  }
 },
 "nbformat": 4,
 "nbformat_minor": 2
}
